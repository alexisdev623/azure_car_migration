{
  "cells": [
    {
      "cell_type": "code",
      "source": [
        "from notebookutils import mssparkutils\n",
        "from pyspark.sql.functions import lit"
      ],
      "outputs": [
        {
          "output_type": "display_data",
          "data": {
            "application/vnd.livy.statement-meta+json": {
              "spark_pool": "sparkgroup",
              "session_id": 83,
              "statement_id": 31,
              "state": "finished",
              "livy_statement_state": "available",
              "queued_time": "2022-05-09T21:44:44.8669226Z",
              "session_start_time": null,
              "execution_start_time": "2022-05-09T21:44:44.9710877Z",
              "execution_finish_time": "2022-05-09T21:44:45.120648Z"
            },
            "text/plain": "StatementMeta(sparkgroup, 83, 31, Finished, Available)"
          },
          "metadata": {}
        }
      ],
      "execution_count": 30,
      "metadata": {
        "jupyter": {
          "source_hidden": false,
          "outputs_hidden": false
        },
        "nteract": {
          "transient": {
            "deleting": false
          }
        }
      }
    },
    {
      "cell_type": "code",
      "source": [
        "spark.conf.set(\"spark.sql.sources.partitionOverwriteMode\",\"dynamic\")"
      ],
      "outputs": [
        {
          "output_type": "display_data",
          "data": {
            "application/vnd.livy.statement-meta+json": {
              "spark_pool": "sparkgroup",
              "session_id": 83,
              "statement_id": 33,
              "state": "finished",
              "livy_statement_state": "available",
              "queued_time": "2022-05-09T21:44:44.9963566Z",
              "session_start_time": null,
              "execution_start_time": "2022-05-09T21:44:45.4676074Z",
              "execution_finish_time": "2022-05-09T21:44:45.4678297Z"
            },
            "text/plain": "StatementMeta(sparkgroup, 83, 33, Finished, Available)"
          },
          "metadata": {}
        }
      ],
      "execution_count": 32,
      "metadata": {
        "jupyter": {
          "source_hidden": false,
          "outputs_hidden": false
        },
        "nteract": {
          "transient": {
            "deleting": false
          }
        }
      }
    },
    {
      "cell_type": "code",
      "source": [
        "año = name[0:4]\n",
        "mes = name[4:6]"
      ],
      "outputs": [
        {
          "output_type": "display_data",
          "data": {
            "application/vnd.livy.statement-meta+json": {
              "spark_pool": "sparkgroup",
              "session_id": 83,
              "statement_id": 34,
              "state": "finished",
              "livy_statement_state": "available",
              "queued_time": "2022-05-09T21:44:45.1358628Z",
              "session_start_time": null,
              "execution_start_time": "2022-05-09T21:44:45.5678595Z",
              "execution_finish_time": "2022-05-09T21:44:45.5681335Z"
            },
            "text/plain": "StatementMeta(sparkgroup, 83, 34, Finished, Available)"
          },
          "metadata": {}
        }
      ],
      "execution_count": 33,
      "metadata": {
        "jupyter": {
          "source_hidden": false,
          "outputs_hidden": false
        },
        "nteract": {
          "transient": {
            "deleting": false
          }
        },
        "tags": []
      }
    },
    {
      "cell_type": "code",
      "source": [
        "account_name = \"alexstorage0003\"\n",
        "container_name = \"input\"\n",
        "relative_path_in = \"data_mensual\"\n",
        "relative_path_out = \"staging\"\n",
        "\n",
        "adls_path = 'abfss://%s@%s.dfs.core.windows.net/%s'%(container_name, account_name, relative_path_in)\n",
        "adls_path_output = 'abfss://%s@%s.dfs.core.windows.net/%s'%(\"output\", account_name, relative_path_out)"
      ],
      "outputs": [
        {
          "output_type": "display_data",
          "data": {
            "application/vnd.livy.statement-meta+json": {
              "spark_pool": "sparkgroup",
              "session_id": 83,
              "statement_id": 35,
              "state": "finished",
              "livy_statement_state": "available",
              "queued_time": "2022-05-09T21:44:45.638866Z",
              "session_start_time": null,
              "execution_start_time": "2022-05-09T21:44:45.7447076Z",
              "execution_finish_time": "2022-05-09T21:44:45.7451837Z"
            },
            "text/plain": "StatementMeta(sparkgroup, 83, 35, Finished, Available)"
          },
          "metadata": {}
        }
      ],
      "execution_count": 34,
      "metadata": {
        "jupyter": {
          "source_hidden": false,
          "outputs_hidden": false
        },
        "nteract": {
          "transient": {
            "deleting": false
          }
        }
      }
    },
    {
      "cell_type": "code",
      "source": [
        "dataframe = spark.read.option('header', 'false') \\\n",
        ".option('delimiter',',') \\\n",
        ".csv(adls_path + f'/{name}')"
      ],
      "outputs": [
        {
          "output_type": "display_data",
          "data": {
            "application/vnd.livy.statement-meta+json": {
              "spark_pool": "sparkgroup",
              "session_id": 83,
              "statement_id": 36,
              "state": "finished",
              "livy_statement_state": "available",
              "queued_time": "2022-05-09T21:44:46.1916255Z",
              "session_start_time": null,
              "execution_start_time": "2022-05-09T21:44:46.294593Z",
              "execution_finish_time": "2022-05-09T21:44:46.8121349Z"
            },
            "text/plain": "StatementMeta(sparkgroup, 83, 36, Finished, Available)"
          },
          "metadata": {}
        }
      ],
      "execution_count": 35,
      "metadata": {
        "jupyter": {
          "source_hidden": false,
          "outputs_hidden": false
        },
        "nteract": {
          "transient": {
            "deleting": false
          }
        }
      }
    },
    {
      "cell_type": "code",
      "source": [
        "dataframe = dataframe.withColumnRenamed(\"_c0\",\"placa\")\\\n",
        "                        .withColumnRenamed(\"_c1\",\"marca\")\\\n",
        "                        .withColumnRenamed(\"_c2\",\"modelo\")\\\n",
        "                        .withColumnRenamed(\"_c3\",\"id_cliente\")\\\n",
        "                        .withColumnRenamed(\"_c4\",\"comuna\")\\\n",
        "                        .withColumnRenamed(\"_c5\",\"region\")\\\n",
        "                        .withColumnRenamed(\"_c6\",\"sexo\")\\\n",
        "                        .withColumnRenamed(\"_c7\",\"actividad\")\\\n",
        "                        .withColumnRenamed(\"_c8\",\"valor_vehiculo\")\\\n",
        "                        .withColumnRenamed(\"_c9\",\"fecha_transferencia\")\\\n",
        "                        .withColumnRenamed(\"_c10\",\"color\")\\\n",
        "                        .withColumnRenamed(\"_c11\",\"edad\")\\\n",
        "                        .withColumnRenamed(\"_c12\",\"vigencia\")\\\n",
        "                        .select(\"*\", lit(f\"{año}\").alias(\"año\"), lit(f\"{mes}\").alias(\"mes\"))"
      ],
      "outputs": [
        {
          "output_type": "display_data",
          "data": {
            "application/vnd.livy.statement-meta+json": {
              "spark_pool": "sparkgroup",
              "session_id": 83,
              "statement_id": 37,
              "state": "finished",
              "livy_statement_state": "available",
              "queued_time": "2022-05-09T21:44:46.4294626Z",
              "session_start_time": null,
              "execution_start_time": "2022-05-09T21:44:46.9170232Z",
              "execution_finish_time": "2022-05-09T21:44:47.0819295Z"
            },
            "text/plain": "StatementMeta(sparkgroup, 83, 37, Finished, Available)"
          },
          "metadata": {}
        }
      ],
      "execution_count": 36,
      "metadata": {
        "jupyter": {
          "source_hidden": false,
          "outputs_hidden": false
        },
        "nteract": {
          "transient": {
            "deleting": false
          }
        }
      }
    },
    {
      "cell_type": "code",
      "source": [
        "dataframe.write\\\n",
        "    .mode('overwrite')\\\n",
        "    .format(\"parquet\")\\\n",
        "    .partitionBy('año', 'mes')\\\n",
        "    .save(adls_path_output + '/car_database')"
      ],
      "outputs": [
        {
          "output_type": "display_data",
          "data": {
            "application/vnd.livy.statement-meta+json": {
              "spark_pool": "sparkgroup",
              "session_id": 83,
              "statement_id": 38,
              "state": "finished",
              "livy_statement_state": "available",
              "queued_time": "2022-05-09T21:44:46.6095046Z",
              "session_start_time": null,
              "execution_start_time": "2022-05-09T21:44:47.1873219Z",
              "execution_finish_time": "2022-05-09T21:44:49.0095948Z"
            },
            "text/plain": "StatementMeta(sparkgroup, 83, 38, Finished, Available)"
          },
          "metadata": {}
        }
      ],
      "execution_count": 37,
      "metadata": {
        "jupyter": {
          "source_hidden": false,
          "outputs_hidden": false
        },
        "nteract": {
          "transient": {
            "deleting": false
          }
        }
      }
    },
    {
      "cell_type": "code",
      "source": [
        "mssparkutils.notebook.exit(1) "
      ],
      "outputs": [
        {
          "output_type": "display_data",
          "data": {
            "application/vnd.livy.statement-meta+json": {
              "spark_pool": "sparkgroup",
              "session_id": 83,
              "statement_id": 40,
              "state": "finished",
              "livy_statement_state": "available",
              "queued_time": "2022-05-09T21:44:46.848291Z",
              "session_start_time": null,
              "execution_start_time": "2022-05-09T21:44:50.2885293Z",
              "execution_finish_time": "2022-05-09T21:44:50.4322868Z"
            },
            "text/plain": "StatementMeta(sparkgroup, 83, 40, Finished, Available)"
          },
          "metadata": {}
        },
        {
          "output_type": "stream",
          "name": "stdout",
          "text": [
            "ExitValue: 1"
          ]
        }
      ],
      "execution_count": 39,
      "metadata": {
        "jupyter": {
          "source_hidden": false,
          "outputs_hidden": false
        },
        "nteract": {
          "transient": {
            "deleting": false
          }
        }
      }
    }
  ],
  "metadata": {
    "kernelspec": {
      "name": "synapse_pyspark",
      "language": "Python",
      "display_name": "Synapse PySpark"
    },
    "language_info": {
      "name": "python"
    },
    "kernel_info": {
      "name": "synapse_pyspark"
    },
    "description": null,
    "save_output": true,
    "synapse_widget": {
      "version": "0.1",
      "state": {}
    }
  },
  "nbformat": 4,
  "nbformat_minor": 2
}
{
  "nbformat": 4,
  "nbformat_minor": 2,
  "cells": [
    {
      "cell_type": "code",
      "execution_count": 30,
      "outputs": [],
      "metadata": {
        "jupyter": {
          "source_hidden": false,
          "outputs_hidden": false
        },
        "nteract": {
          "transient": {
            "deleting": false
          }
        }
      },
      "source": [
        "from notebookutils import mssparkutils\n",
        "from pyspark.sql.functions import lit"
      ]
    },
    {
      "cell_type": "code",
      "execution_count": 32,
      "outputs": [],
      "metadata": {
        "jupyter": {
          "source_hidden": false,
          "outputs_hidden": false
        },
        "nteract": {
          "transient": {
            "deleting": false
          }
        }
      },
      "source": [
        "spark.conf.set(\"spark.sql.sources.partitionOverwriteMode\",\"dynamic\")"
      ]
    },
    {
      "cell_type": "code",
      "execution_count": 33,
      "outputs": [],
      "metadata": {
        "jupyter": {
          "source_hidden": false,
          "outputs_hidden": false
        },
        "nteract": {
          "transient": {
            "deleting": false
          }
        },
        "tags": []
      },
      "source": [
        "año = name[0:4]\n",
        "mes = name[4:6]"
      ]
    },
    {
      "cell_type": "code",
      "execution_count": 34,
      "outputs": [],
      "metadata": {
        "jupyter": {
          "source_hidden": false,
          "outputs_hidden": false
        },
        "nteract": {
          "transient": {
            "deleting": false
          }
        }
      },
      "source": [
        "account_name = \"alexstorage0003\"\n",
        "container_name = \"datalake\"\n",
        "relative_path_in = \"bronze/car_database\"\n",
        "relative_path_out = \"silver/car_database\"\n",
        "\n",
        "adls_path_in = 'abfss://%s@%s.dfs.core.windows.net/%s'%(container_name, account_name, relative_path_in)\n",
        "adls_path_output = 'abfss://%s@%s.dfs.core.windows.net/%s'%(container_name, account_name, relative_path_out)"
      ]
    },
    {
      "cell_type": "code",
      "execution_count": 35,
      "outputs": [],
      "metadata": {
        "jupyter": {
          "source_hidden": false,
          "outputs_hidden": false
        },
        "nteract": {
          "transient": {
            "deleting": false
          }
        }
      },
      "source": [
        "dataframe = spark.read.option('header', 'false') \\\n",
        ".option('delimiter',',') \\\n",
        ".csv(adls_path_in + f'/{name}')"
      ]
    },
    {
      "cell_type": "code",
      "execution_count": 36,
      "outputs": [],
      "metadata": {
        "jupyter": {
          "source_hidden": false,
          "outputs_hidden": false
        },
        "nteract": {
          "transient": {
            "deleting": false
          }
        }
      },
      "source": [
        "dataframe = dataframe.withColumnRenamed(\"_c0\",\"placa\")\\\n",
        "                        .withColumnRenamed(\"_c1\",\"marca\")\\\n",
        "                        .withColumnRenamed(\"_c2\",\"modelo\")\\\n",
        "                        .withColumnRenamed(\"_c3\",\"id_cliente\")\\\n",
        "                        .withColumnRenamed(\"_c4\",\"comuna\")\\\n",
        "                        .withColumnRenamed(\"_c5\",\"region\")\\\n",
        "                        .withColumnRenamed(\"_c6\",\"sexo\")\\\n",
        "                        .withColumnRenamed(\"_c7\",\"actividad\")\\\n",
        "                        .withColumnRenamed(\"_c8\",\"valor_vehiculo\")\\\n",
        "                        .withColumnRenamed(\"_c9\",\"fecha_transferencia\")\\\n",
        "                        .withColumnRenamed(\"_c10\",\"color\")\\\n",
        "                        .withColumnRenamed(\"_c11\",\"edad\")\\\n",
        "                        .withColumnRenamed(\"_c12\",\"vigencia\")\\\n",
        "                        .select(\"*\", lit(f\"{año}\").alias(\"año\"), lit(f\"{mes}\").alias(\"mes\"))"
      ]
    },
    {
      "cell_type": "code",
      "execution_count": 37,
      "outputs": [],
      "metadata": {
        "jupyter": {
          "source_hidden": false,
          "outputs_hidden": false
        },
        "nteract": {
          "transient": {
            "deleting": false
          }
        }
      },
      "source": [
        "dataframe.write\\\n",
        "    .mode('overwrite')\\\n",
        "    .format(\"avro\")\\\n",
        "    .partitionBy('año', 'mes')\\\n",
        "    .save(adls_path_output)"
      ]
    },
    {
      "cell_type": "code",
      "execution_count": 39,
      "outputs": [],
      "metadata": {
        "jupyter": {
          "source_hidden": false,
          "outputs_hidden": false
        },
        "nteract": {
          "transient": {
            "deleting": false
          }
        }
      },
      "source": [
        "mssparkutils.notebook.exit(1) "
      ]
    }
  ],
  "metadata": {
    "description": null,
    "save_output": true,
    "kernelspec": {
      "name": "synapse_pyspark",
      "display_name": "Synapse PySpark"
    },
    "language_info": {
      "name": "python"
    }
  }
}
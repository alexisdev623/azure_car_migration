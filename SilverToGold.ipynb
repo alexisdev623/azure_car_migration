{
  "nbformat": 4,
  "nbformat_minor": 2,
  "cells": [
    {
      "cell_type": "code",
      "execution_count": 31,
      "outputs": [],
      "metadata": {
        "jupyter": {
          "source_hidden": false,
          "outputs_hidden": false
        },
        "nteract": {
          "transient": {
            "deleting": false
          }
        }
      },
      "source": [
        "spark.conf.set(\"spark.sql.sources.partitionOverwriteMode\",\"dynamic\")"
      ]
    },
    {
      "cell_type": "code",
      "execution_count": 25,
      "outputs": [],
      "metadata": {
        "jupyter": {
          "source_hidden": false,
          "outputs_hidden": false
        },
        "nteract": {
          "transient": {
            "deleting": false
          }
        }
      },
      "source": [
        "from notebookutils import mssparkutils\n",
        "from pyspark.sql.functions import lit, col, when\n",
        "from pyspark.sql.types import StringType,BooleanType,DateType, IntegerType"
      ]
    },
    {
      "cell_type": "code",
      "execution_count": 4,
      "outputs": [],
      "metadata": {
        "jupyter": {
          "source_hidden": false,
          "outputs_hidden": false
        },
        "nteract": {
          "transient": {
            "deleting": false
          }
        }
      },
      "source": [
        "año = name[0:4]\n",
        "mes = name[4:6]"
      ]
    },
    {
      "cell_type": "code",
      "execution_count": 5,
      "outputs": [],
      "metadata": {
        "jupyter": {
          "source_hidden": false,
          "outputs_hidden": false
        },
        "nteract": {
          "transient": {
            "deleting": false
          }
        }
      },
      "source": [
        "account_name = \"alexstorage0003\"\n",
        "container_name = \"datalake\"\n",
        "relative_path_in = f\"silver/car_database/año={año}\"\n",
        "relative_path_out = \"gold/car_database\"\n",
        "\n",
        "adls_path_in = 'abfss://%s@%s.dfs.core.windows.net/%s'%(container_name, account_name, relative_path_in)\n",
        "adls_path_output = 'abfss://%s@%s.dfs.core.windows.net/%s'%(container_name, account_name, relative_path_out)"
      ]
    },
    {
      "cell_type": "code",
      "execution_count": 23,
      "outputs": [],
      "metadata": {
        "jupyter": {
          "source_hidden": false,
          "outputs_hidden": false
        },
        "nteract": {
          "transient": {
            "deleting": false
          }
        }
      },
      "source": [
        "dataframe = spark.read.format(\"avro\").load(adls_path_in)"
      ]
    },
    {
      "cell_type": "code",
      "execution_count": 28,
      "outputs": [],
      "metadata": {
        "jupyter": {
          "source_hidden": false,
          "outputs_hidden": false
        },
        "nteract": {
          "transient": {
            "deleting": false
          }
        }
      },
      "source": [
        "dataframe = dataframe.select(col(\"placa\"), \\\n",
        "                    when(col(\"marca\").isin(['SUZUKI', 'MAZDA', 'RENAULT', 'HAVAL', 'GWM', 'GREAT WALL MOTORS', 'GREAT WALL MOTOR', 'CHANGAN', 'JAC']),\\\n",
        "                    \"DERCO\").otherwise(col(\"marca\")).alias(\"marca\"), \\\n",
        "                    col(\"modelo\"), col(\"id_cliente\").cast(IntegerType()), col(\"comuna\"), col(\"region\"), col(\"sexo\"), col(\"actividad\"), \\\n",
        "                    col(\"valor_vehiculo\").cast(IntegerType()), col(\"fecha_transferencia\").cast(IntegerType()),\\\n",
        "                    col(\"color\"), col(\"edad\"), col(\"vigencia\"), col(\"mes\"),  lit(f\"{año}\").cast(IntegerType()).alias(\"año\"))"
      ]
    },
    {
      "cell_type": "code",
      "execution_count": 29,
      "outputs": [],
      "metadata": {
        "jupyter": {
          "source_hidden": false,
          "outputs_hidden": false
        },
        "nteract": {
          "transient": {
            "deleting": false
          }
        }
      },
      "source": [
        "dataframe.printSchema()"
      ]
    },
    {
      "cell_type": "code",
      "execution_count": 32,
      "outputs": [],
      "metadata": {
        "jupyter": {
          "source_hidden": false,
          "outputs_hidden": false
        },
        "nteract": {
          "transient": {
            "deleting": false
          }
        }
      },
      "source": [
        "dataframe.write\\\n",
        "    .mode('overwrite')\\\n",
        "    .format(\"parquet\")\\\n",
        "    .partitionBy('año', 'mes')\\\n",
        "    .save(adls_path_output)"
      ]
    }
  ],
  "metadata": {
    "description": null,
    "save_output": true,
    "kernelspec": {
      "name": "synapse_pyspark",
      "display_name": "Synapse PySpark"
    },
    "language_info": {
      "name": "python"
    }
  }
}